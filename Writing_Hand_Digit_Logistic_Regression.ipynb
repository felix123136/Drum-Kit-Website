{
  "cells": [
    {
      "cell_type": "markdown",
      "metadata": {
        "id": "view-in-github",
        "colab_type": "text"
      },
      "source": [
        "<a href=\"https://colab.research.google.com/github/felix123136/Drum-Kit-Website/blob/main/Writing_Hand_Digit_Logistic_Regression.ipynb\" target=\"_parent\"><img src=\"https://colab.research.google.com/assets/colab-badge.svg\" alt=\"Open In Colab\"/></a>"
      ]
    },
    {
      "cell_type": "code",
      "execution_count": null,
      "id": "98992093",
      "metadata": {
        "id": "98992093"
      },
      "outputs": [],
      "source": [
        "# import library\n",
        "from sklearn.datasets import load_digits\n",
        "from sklearn.model_selection import train_test_split\n",
        "\n",
        "import numpy as np\n",
        "import matplotlib.pyplot as plt\n",
        "import seaborn as sns\n",
        "from sklearn import metrics\n",
        "%matplotlib inline\n",
        "digits = load_digits()"
      ]
    },
    {
      "cell_type": "code",
      "execution_count": null,
      "id": "14ea51da",
      "metadata": {
        "id": "14ea51da",
        "outputId": "d0b72a0a-d38e-41f6-8de1-38a6f3891409"
      },
      "outputs": [
        {
          "name": "stdout",
          "output_type": "stream",
          "text": [
            "Image data shape (1797, 64)\n",
            "Label data shape (1797,)\n"
          ]
        }
      ],
      "source": [
        "print(\"Image data shape\", digits.data.shape)\n",
        "print(\"Label data shape\", digits.target.shape)"
      ]
    },
    {
      "cell_type": "code",
      "execution_count": null,
      "id": "769f70ec",
      "metadata": {
        "id": "769f70ec",
        "outputId": "12ed38fb-b3f7-4fa2-9418-567c1d5b80f9"
      },
      "outputs": [
        {
          "data": {
            "image/png": "[encoded data removed]",
            "text/plain": [
              "<Figure size 1440x288 with 10 Axes>"
            ]
          },
          "metadata": {
            "needs_background": "light"
          },
          "output_type": "display_data"
        }
      ],
      "source": [
        "plt.figure(figsize=(20,4))\n",
        "for i, (image, label) in enumerate(zip(digits.data[:10], digits.target[:10])):\n",
        "    plt.subplot(1, 10, i + 1)\n",
        "    plt.imshow(np.reshape(image, (8, 8)), cmap=plt.cm.gray)\n",
        "    plt.title('Training: %i\\n' % label, fontsize = 20)"
      ]
    },
    {
      "cell_type": "code",
      "execution_count": null,
      "id": "8e8de159",
      "metadata": {
        "id": "8e8de159"
      },
      "outputs": [],
      "source": [
        "x_train, x_test, y_train, y_test = train_test_split(digits.data, digits.target, test_size = 0.23, random_state = 2)"
      ]
    },
    {
      "cell_type": "code",
      "execution_count": null,
      "id": "6b0587d6",
      "metadata": {
        "id": "6b0587d6",
        "outputId": "b35e3697-f2d6-48df-a65b-c2a300bb0e8f"
      },
      "outputs": [
        {
          "data": {
            "text/plain": [
              "(1383, 64)"
            ]
          },
          "execution_count": 5,
          "metadata": {},
          "output_type": "execute_result"
        }
      ],
      "source": [
        "x_train.shape"
      ]
    },
    {
      "cell_type": "code",
      "execution_count": null,
      "id": "cf1a839d",
      "metadata": {
        "id": "cf1a839d",
        "outputId": "19312b70-b090-4b06-a6e0-c7ce01c5af23"
      },
      "outputs": [
        {
          "data": {
            "text/plain": [
              "(1383,)"
            ]
          },
          "execution_count": 6,
          "metadata": {},
          "output_type": "execute_result"
        }
      ],
      "source": [
        "y_train.shape"
      ]
    },
    {
      "cell_type": "code",
      "execution_count": null,
      "id": "f29a1e61",
      "metadata": {
        "id": "f29a1e61",
        "outputId": "b16465bc-a6f0-4eb7-d85b-7deb4ae608cb"
      },
      "outputs": [
        {
          "data": {
            "text/plain": [
              "(414, 64)"
            ]
          },
          "execution_count": 7,
          "metadata": {},
          "output_type": "execute_result"
        }
      ],
      "source": [
        "x_test.shape"
      ]
    },
    {
      "cell_type": "code",
      "execution_count": null,
      "id": "8542e3a1",
      "metadata": {
        "id": "8542e3a1",
        "outputId": "3a143dee-0dce-40db-a6c6-b0934db6e7fe"
      },
      "outputs": [
        {
          "data": {
            "text/plain": [
              "(414,)"
            ]
          },
          "execution_count": 8,
          "metadata": {},
          "output_type": "execute_result"
        }
      ],
      "source": [
        "y_test.shape"
      ]
    },
    {
      "cell_type": "code",
      "execution_count": null,
      "id": "31ea7fad",
      "metadata": {
        "id": "31ea7fad",
        "outputId": "72836901-d79b-4ed1-ec89-da7e00d67886"
      },
      "outputs": [
        {
          "data": {
            "text/plain": [
              "LogisticRegression(max_iter=5000)"
            ]
          },
          "execution_count": 9,
          "metadata": {},
          "output_type": "execute_result"
        }
      ],
      "source": [
        "from sklearn.linear_model import LogisticRegression\n",
        "logisticRegr = LogisticRegression(solver='lbfgs', max_iter=5000)\n",
        "logisticRegr.fit(x_train, y_train)"
      ]
    },
    {
      "cell_type": "code",
      "execution_count": null,
      "id": "cfc825fd",
      "metadata": {
        "id": "cfc825fd"
      },
      "outputs": [],
      "source": [
        "predictions = logisticRegr.predict(x_test)"
      ]
    },
    {
      "cell_type": "code",
      "execution_count": null,
      "id": "fd327f1f",
      "metadata": {
        "id": "fd327f1f",
        "outputId": "cd464133-167c-46e4-a7a5-0960dd6388e0"
      },
      "outputs": [
        {
          "name": "stdout",
          "output_type": "stream",
          "text": [
            "0.9492753623188406\n"
          ]
        }
      ],
      "source": [
        "score = logisticRegr.score(x_test, y_test)\n",
        "print(score)"
      ]
    },
    {
      "cell_type": "code",
      "execution_count": null,
      "id": "115394b7",
      "metadata": {
        "scrolled": true,
        "id": "115394b7",
        "outputId": "e54fdb37-3364-47f9-c781-ad86820f93d8"
      },
      "outputs": [
        {
          "name": "stdout",
          "output_type": "stream",
          "text": [
            "[[37  0  0  0  1  0  0  0  0  0]\n",
            " [ 0 46  0  1  0  0  0  0  1  0]\n",
            " [ 0  0 43  0  0  0  0  0  0  0]\n",
            " [ 0  0  0 39  0  0  0  2  1  0]\n",
            " [ 0  0  0  0 34  0  0  0  3  1]\n",
            " [ 0  1  0  0  1 43  0  0  0  1]\n",
            " [ 0  1  0  0  0  0 39  0  1  0]\n",
            " [ 0  0  0  0  0  0  0 45  1  0]\n",
            " [ 0  0  0  0  1  0  0  0 36  1]\n",
            " [ 0  0  0  1  0  1  0  0  1 31]]\n"
          ]
        }
      ],
      "source": [
        "cm = metrics.confusion_matrix(y_test, predictions)\n",
        "print(cm)"
      ]
    },
    {
      "cell_type": "code",
      "execution_count": null,
      "id": "63fb0602",
      "metadata": {
        "id": "63fb0602",
        "outputId": "8dac6639-78bf-4457-d511-52041c33a1c9"
      },
      "outputs": [
        {
          "data": {
            "text/plain": [
              "Text(0.5, 1.0, 'Accuracy Score: 0.9492753623188406')"
            ]
          },
          "execution_count": 13,
          "metadata": {},
          "output_type": "execute_result"
        },
        {
          "data": {
            "image/png": "[encoded data removed]",
            "text/plain": [
              "<Figure size 648x648 with 2 Axes>"
            ]
          },
          "metadata": {
            "needs_background": "light"
          },
          "output_type": "display_data"
        }
      ],
      "source": [
        "plt.figure(figsize=(9, 9))\n",
        "sns.heatmap(cm, annot=True, fmt=\".3f\", linewidths=.5, square=True, cmap='Blues_r');\n",
        "plt.ylabel('Actual Label')\n",
        "plt.xlabel('Predicted Label')\n",
        "all_sample_title = 'Accuracy Score: {0}'.format(score)\n",
        "plt.title(all_sample_title, size = 15)"
      ]
    },
    {
      "cell_type": "code",
      "execution_count": null,
      "id": "49522c29",
      "metadata": {
        "id": "49522c29",
        "outputId": "4b26de2c-76ee-4abb-f2c1-27aad64715a0"
      },
      "outputs": [
        {
          "data": {
            "image/png": "[encoded data removed]",
            "text/plain": [
              "<Figure size 1440x216 with 5 Axes>"
            ]
          },
          "metadata": {
            "needs_background": "light"
          },
          "output_type": "display_data"
        }
      ],
      "source": [
        "classifiedIndex = []\n",
        "for index, (predict, actual) in enumerate(zip(predictions, y_test)):\n",
        "    if predict == actual:\n",
        "        classifiedIndex.append(index)\n",
        "\n",
        "plt.figure(figsize=(20, 3))\n",
        "for plotIndex, index in enumerate(classifiedIndex[:5]):\n",
        "    plt.subplot(1, 5, plotIndex + 1)\n",
        "    plt.imshow(np.reshape(x_test[index], (8, 8)), cmap=plt.cm.gray)\n",
        "    plt.title(\"Predicted: {}, actual: {}\".format(predictions[index], y_test[index]), fontsize=20)"
      ]
    },
    {
      "cell_type": "code",
      "execution_count": null,
      "id": "7bdb982d",
      "metadata": {
        "id": "7bdb982d"
      },
      "outputs": [],
      "source": []
    }
  ],
  "metadata": {
    "kernelspec": {
      "display_name": "Python 3 (ipykernel)",
      "language": "python",
      "name": "python3"
    },
    "language_info": {
      "codemirror_mode": {
        "name": "ipython",
        "version": 3
      },
      "file_extension": ".py",
      "mimetype": "text/x-python",
      "name": "python",
      "nbconvert_exporter": "python",
      "pygments_lexer": "ipython3",
      "version": "3.9.12"
    },
    "colab": {
      "provenance": [],
      "include_colab_link": true
    }
  },
  "nbformat": 4,
  "nbformat_minor": 5
}